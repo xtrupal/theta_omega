{
 "cells": [
  {
   "cell_type": "markdown",
   "id": "8d907310-1e79-48f1-8624-c867124f9598",
   "metadata": {},
   "source": [
    "# this is a step by step guide to load the pretrained double pendulum (LSTM_PENDULUM.pt) model that i train on my rusty rtx3050 "
   ]
  },
  {
   "cell_type": "code",
   "execution_count": null,
   "id": "0bb23d34-2ce4-4cbf-be12-5c490a352419",
   "metadata": {},
   "outputs": [],
   "source": [
    "import torch\n",
    "from torch.utils.data import DataLoader\n",
    "import torch.nn as nn\n",
    "from tqdm import tqdm\n",
    "import numpy as np\n",
    "from pathlib import Path"
   ]
  },
  {
   "cell_type": "code",
   "execution_count": null,
   "id": "2183cddd-412b-447b-be5e-4e779d8d6a0f",
   "metadata": {},
   "outputs": [],
   "source": []
  },
  {
   "cell_type": "code",
   "execution_count": 2,
   "id": "112147ff-3790-4d57-8313-4a5689e9300a",
   "metadata": {},
   "outputs": [],
   "source": [
    "device = torch.device(\"cuda\" if torch.cuda.is_available() else \"cpu\")"
   ]
  },
  {
   "cell_type": "code",
   "execution_count": 5,
   "id": "a47ae5f4-dbff-4c37-88cb-22c05250f7d2",
   "metadata": {},
   "outputs": [],
   "source": [
    "class FullSequenceDataset(torch.utils.data.Dataset):\n",
    "    def __init__(self, trail_dir, state_dir, label_dir):\n",
    "        self.trail_dir = Path(trail_dir)\n",
    "        self.state_dir = Path(state_dir)\n",
    "        self.label_dir = Path(label_dir)\n",
    "        self.sample_ids = sorted([f.stem for f in self.trail_dir.glob(\"*.npy\")])\n",
    "\n",
    "    def __len__(self):\n",
    "        return len(self.sample_ids)\n",
    "\n",
    "    def __getitem__(self, idx):\n",
    "        sample_id = self.sample_ids[idx]\n",
    "        trail = np.load(self.trail_dir / f\"{sample_id}.npy\")   # (300, 2)\n",
    "        state = np.load(self.state_dir / f\"{sample_id}.npy\")   # (300, 4)\n",
    "        label = np.load(self.label_dir / f\"{sample_id}.npy\")   # (4,)\n",
    "        input_seq = np.concatenate([trail, state], axis=1)     # (300, 6)\n",
    "        return torch.tensor(input_seq, dtype=torch.float32), torch.tensor(label, dtype=torch.float32)"
   ]
  },
  {
   "cell_type": "code",
   "execution_count": 6,
   "id": "74efddb9-8f59-44f1-a9ec-67a854a5ea81",
   "metadata": {},
   "outputs": [],
   "source": [
    "# Set paths\n",
    "trail_path = \"dataset/trails\"\n",
    "state_path = \"dataset/states\"\n",
    "label_path = \"dataset/labels\"\n",
    "# Load dataset and split\n",
    "full_dataset = FullSequenceDataset(trail_path, state_path, label_path)\n",
    "n = len(full_dataset)\n",
    "test_size = int(0.1 * n)\n",
    "val_size = int(0.1 * n)\n",
    "train_size = n - test_size - val_size\n",
    "\n",
    "_, _, test_set = torch.utils.data.random_split(full_dataset, [train_size, val_size, test_size])\n",
    "test_loader = DataLoader(test_set, batch_size=32)"
   ]
  },
  {
   "cell_type": "code",
   "execution_count": 7,
   "id": "3083d193-f1ee-4ccc-acb8-89bc40aacbe7",
   "metadata": {},
   "outputs": [
    {
     "data": {
      "text/plain": [
       "RecursiveScriptModule(\n",
       "  original_name=PendulumFullLSTM\n",
       "  (lstm): RecursiveScriptModule(original_name=LSTM)\n",
       "  (fc): RecursiveScriptModule(\n",
       "    original_name=Sequential\n",
       "    (0): RecursiveScriptModule(original_name=Linear)\n",
       "    (1): RecursiveScriptModule(original_name=ReLU)\n",
       "    (2): RecursiveScriptModule(original_name=Linear)\n",
       "    (3): RecursiveScriptModule(original_name=ReLU)\n",
       "    (4): RecursiveScriptModule(original_name=Linear)\n",
       "  )\n",
       ")"
      ]
     },
     "execution_count": 7,
     "metadata": {},
     "output_type": "execute_result"
    }
   ],
   "source": [
    "device = torch.device(\"cuda\" if torch.cuda.is_available() else \"cpu\")\n",
    "model = torch.jit.load(\"LSTM_PENDULUM.pt\")\n",
    "model = model.to(device)\n",
    "model.eval()"
   ]
  },
  {
   "cell_type": "code",
   "execution_count": 10,
   "id": "8c71de55-27c6-4c88-aae8-cc6ce003358b",
   "metadata": {},
   "outputs": [
    {
     "name": "stderr",
     "output_type": "stream",
     "text": [
      "Testing: 100%|██████████| 32/32 [00:01<00:00, 27.74it/s]"
     ]
    },
    {
     "name": "stdout",
     "output_type": "stream",
     "text": [
      "Test MSE Loss: 0.000201\n"
     ]
    },
    {
     "name": "stderr",
     "output_type": "stream",
     "text": [
      "\n"
     ]
    }
   ],
   "source": [
    "criterion = nn.MSELoss()\n",
    "test_loss = 0.0\n",
    "\n",
    "with torch.no_grad():\n",
    "    for inputs, targets in tqdm(test_loader, desc=\"Testing\"):\n",
    "        inputs = inputs.to(device)\n",
    "        targets = targets.to(device)\n",
    "        outputs = model(inputs)\n",
    "        loss = criterion(outputs, targets)\n",
    "        test_loss += loss.item()\n",
    "\n",
    "avg_test_loss = test_loss / len(test_loader)\n",
    "print(f\"Test MSE Loss: {avg_test_loss:.6f}\")"
   ]
  },
  {
   "cell_type": "code",
   "execution_count": null,
   "id": "e479dabc-f005-4d8f-8fa3-afd7315c59dd",
   "metadata": {},
   "outputs": [],
   "source": []
  },
  {
   "cell_type": "code",
   "execution_count": 11,
   "id": "3b831e7d-e8ae-4214-992f-d74b31b3c219",
   "metadata": {},
   "outputs": [],
   "source": [
    "def test_single_sample(index=None):\n",
    "    if index is None:\n",
    "        index = random.randint(0, len(test_set) - 1)\n",
    "    x, y_true = test_set[index]\n",
    "    x = x.unsqueeze(0).to(device)\n",
    "    with torch.no_grad():\n",
    "        y_pred = model(x).cpu().numpy().flatten()\n",
    "    print(f\"Sample #{index}\")\n",
    "    print(\"True     :\", y_true.numpy())\n",
    "    print(\"Predicted:\", y_pred)"
   ]
  },
  {
   "cell_type": "code",
   "execution_count": 25,
   "id": "2c2645dc-e9af-4ef1-9e7b-9caedcc7973b",
   "metadata": {},
   "outputs": [
    {
     "data": {
      "text/plain": [
       "1000"
      ]
     },
     "execution_count": 25,
     "metadata": {},
     "output_type": "execute_result"
    }
   ],
   "source": [
    "len(test_set)"
   ]
  },
  {
   "cell_type": "code",
   "execution_count": 24,
   "id": "fa6dcf65-e100-4397-b0ca-6f983b2d1a8d",
   "metadata": {},
   "outputs": [
    {
     "name": "stdout",
     "output_type": "stream",
     "text": [
      "Sample #69\n",
      "True     : [ 2.216845    0.6956586   1.3167913  -0.72823745]\n",
      "Predicted: [ 2.195375   0.705164   1.3060037 -0.7550562]\n"
     ]
    }
   ],
   "source": [
    "test_single_sample(69)"
   ]
  },
  {
   "cell_type": "code",
   "execution_count": null,
   "id": "8c28348a-73ba-4008-b389-3e4aa02c0394",
   "metadata": {},
   "outputs": [],
   "source": []
  },
  {
   "cell_type": "code",
   "execution_count": 13,
   "id": "c190b9d3-885d-4eae-a18f-75cc081276f3",
   "metadata": {},
   "outputs": [],
   "source": [
    "import random\n",
    "import torch\n",
    "import numpy as np\n",
    "import matplotlib.pyplot as plt\n",
    "from scipy.integrate import solve_ivp\n",
    "\n",
    "# Physical constants\n",
    "g = 9.81\n",
    "L1, L2 = 1.5, 1.5\n",
    "m1, m2 = 1.0, 1.0\n",
    "\n",
    "# Pendulum equations\n",
    "def equations(t, y):\n",
    "    θ1, z1, θ2, z2 = y\n",
    "    Δ = θ2 - θ1\n",
    "\n",
    "    den1 = (m1 + m2) * L1 - m2 * L1 * np.cos(Δ)**2\n",
    "    den2 = (L2 / L1) * den1\n",
    "\n",
    "    dz1 = (m2 * L1 * z1**2 * np.sin(Δ) * np.cos(Δ)\n",
    "           + m2 * g * np.sin(θ2) * np.cos(Δ)\n",
    "           + m2 * L2 * z2**2 * np.sin(Δ)\n",
    "           - (m1 + m2) * g * np.sin(θ1)) / den1\n",
    "\n",
    "    dz2 = (-m2 * L2 * z2**2 * np.sin(Δ) * np.cos(Δ)\n",
    "           + (m1 + m2) * g * np.sin(θ1) * np.cos(Δ)\n",
    "           - (m1 + m2) * L1 * z1**2 * np.sin(Δ)\n",
    "           - (m1 + m2) * g * np.sin(θ2)) / den2\n",
    "\n",
    "    return [z1, dz1, z2, dz2]\n",
    "\n",
    "# Simulate (x2, y2) from initial state\n",
    "def simulate_from_state(state, T=5.0, fps=60):\n",
    "    θ1, ω1, θ2, ω2 = state\n",
    "    y0 = [θ1, ω1, θ2, ω2]\n",
    "    t_eval = np.linspace(0, T, int(T * fps))\n",
    "\n",
    "    sol = solve_ivp(equations, [0, T], y0, t_eval=t_eval, rtol=1e-10, atol=1e-10)\n",
    "    θ1, θ2 = sol.y[0], sol.y[2]\n",
    "\n",
    "    x1 = L1 * np.sin(θ1)\n",
    "    y1 = -L1 * np.cos(θ1)\n",
    "    x2 = x1 + L2 * np.sin(θ2)\n",
    "    y2 = y1 - L2 * np.cos(θ2)\n",
    "    return x2, y2\n",
    "\n",
    "# Compare prediction and truth\n",
    "def show_comparison(pred_label, true_label, figsize=(5, 3), T=5, fps=60):\n",
    "    x2_pred, y2_pred = simulate_from_state(pred_label, T=T, fps=fps)\n",
    "    x2_true, y2_true = simulate_from_state(true_label, T=T, fps=fps)\n",
    "\n",
    "    all_x = np.concatenate([x2_pred, x2_true])\n",
    "    all_y = np.concatenate([y2_pred, y2_true])\n",
    "    max_range = max(np.abs(all_x).max(), np.abs(all_y).max()) * 1.1\n",
    "\n",
    "    fig, axes = plt.subplots(1, 2, figsize=figsize)\n",
    "    axes[0].plot(x2_true, y2_true, color='black', linewidth=1)\n",
    "    axes[0].set_xlim(-max_range, max_range)\n",
    "    axes[0].set_ylim(-max_range, max_range)\n",
    "    axes[0].set_aspect('equal')\n",
    "    axes[0].set_title(\"Truth Trail\")\n",
    "    axes[0].axis('off')\n",
    "\n",
    "    axes[1].plot(x2_pred, y2_pred, color='black', linewidth=1)\n",
    "    axes[1].set_xlim(-max_range, max_range)\n",
    "    axes[1].set_ylim(-max_range, max_range)\n",
    "    axes[1].set_aspect('equal')\n",
    "    axes[1].set_title(\"Predicted Trail\")\n",
    "    axes[1].axis('off')\n",
    "\n",
    "    plt.tight_layout()\n",
    "    plt.show()\n",
    "\n",
    "def test_and_visualize_sample(model, test_set, device, index=None):\n",
    "    if index is None:\n",
    "        index = random.randint(0, len(test_set) - 1)\n",
    "\n",
    "    seq, true_label = test_set[index]\n",
    "    seq = seq.unsqueeze(0).to(device)\n",
    "\n",
    "    model.eval()\n",
    "    with torch.no_grad():\n",
    "        output = model(seq).cpu()\n",
    "        pred_label = output.numpy().flatten()\n",
    "\n",
    "    show_comparison(pred_label, true_label)\n",
    "    print(f\"Sample Index: {index}\")\n",
    "    print(f\"True Label   : {true_label.numpy()}\")\n",
    "    print(f\"Predicted    : {pred_label}\")\n"
   ]
  },
  {
   "cell_type": "code",
   "execution_count": null,
   "id": "be356a74-c026-4130-bd8c-35fa8a2f9dfd",
   "metadata": {},
   "outputs": [],
   "source": []
  },
  {
   "cell_type": "code",
   "execution_count": 20,
   "id": "4935858f-5b3b-4e51-8368-f8cd66d78ee1",
   "metadata": {},
   "outputs": [
    {
     "data": {
      "image/png": "[encoded data removed]",
      "text/plain": [
       "<Figure size 500x300 with 2 Axes>"
      ]
     },
     "metadata": {},
     "output_type": "display_data"
    },
    {
     "name": "stdout",
     "output_type": "stream",
     "text": [
      "Sample Index: 280\n",
      "True Label   : [ 1.6806791  -0.98750716  2.142223    0.6625823 ]\n",
      "Predicted    : [ 1.684851   -0.97930783  2.1399188   0.66282624]\n"
     ]
    }
   ],
   "source": [
    "# Random sample\n",
    "test_and_visualize_sample(model, test_set, device)"
   ]
  },
  {
   "cell_type": "code",
   "execution_count": null,
   "id": "c625b07b-8a1d-4cae-9c28-ab47740a786d",
   "metadata": {},
   "outputs": [],
   "source": []
  },
  {
   "cell_type": "code",
   "execution_count": 17,
   "id": "f7fad0db-231a-491e-a3c1-460b2ff207bf",
   "metadata": {},
   "outputs": [
    {
     "data": {
      "image/png": "[encoded data removed]",
      "text/plain": [
       "<Figure size 500x300 with 2 Axes>"
      ]
     },
     "metadata": {},
     "output_type": "display_data"
    },
    {
     "name": "stdout",
     "output_type": "stream",
     "text": [
      "Sample Index: 19\n",
      "True Label   : [ 1.1722702 -0.4726201  1.9307501 -0.7472054]\n",
      "Predicted    : [ 1.1762829  -0.48097038  1.9273733  -0.75801444]\n"
     ]
    }
   ],
   "source": [
    "# Specific index\n",
    "test_and_visualize_sample(model, test_set, device, index=19)"
   ]
  },
  {
   "cell_type": "code",
   "execution_count": null,
   "id": "51fb2fb2-cbf8-4e21-9c35-4fd906160422",
   "metadata": {},
   "outputs": [],
   "source": []
  },
  {
   "cell_type": "markdown",
   "id": "06826c48-5061-4357-954f-2e2f66c544fc",
   "metadata": {},
   "source": [
    "hope it helped u.\n",
    "thanks :)"
   ]
  }
 ],
 "metadata": {
  "kernelspec": {
   "display_name": "Python (gpu_env)",
   "language": "python",
   "name": "gpu_env"
  },
  "language_info": {
   "codemirror_mode": {
    "name": "ipython",
    "version": 3
   },
   "file_extension": ".py",
   "mimetype": "text/x-python",
   "name": "python",
   "nbconvert_exporter": "python",
   "pygments_lexer": "ipython3",
   "version": "3.11.11"
  }
 },
 "nbformat": 4,
 "nbformat_minor": 5
}
